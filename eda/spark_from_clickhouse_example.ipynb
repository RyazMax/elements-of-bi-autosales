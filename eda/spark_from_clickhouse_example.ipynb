{
 "cells": [
  {
   "cell_type": "code",
   "execution_count": 1,
   "id": "overall-second",
   "metadata": {},
   "outputs": [],
   "source": [
    "from pyspark.sql import SparkSession\n",
    "from pyspark.sql import functions as F\n",
    "\n",
    "import socket"
   ]
  },
  {
   "cell_type": "code",
   "execution_count": 2,
   "id": "revolutionary-running",
   "metadata": {},
   "outputs": [],
   "source": [
    "LOCAL_IP = socket.gethostbyname(socket.gethostname())"
   ]
  },
  {
   "cell_type": "code",
   "execution_count": 45,
   "id": "prospective-sustainability",
   "metadata": {},
   "outputs": [],
   "source": [
    "spark = SparkSession\\\n",
    "    .builder\\\n",
    "    .master(\"k8s://https://10.32.7.103:6443\")\\\n",
    "    .config(\"spark.driver.host\", LOCAL_IP)\\\n",
    "    .config(\"spark.driver.memory\", \"4g\")\\\n",
    "    .config(\"spark.driver.bindAddress\", \"0.0.0.0\")\\\n",
    "    .config(\"spark.executor.instances\", \"1\")\\\n",
    "    .config(\"spark.executor.cores\", '1')\\\n",
    "    .config(\"spark.executor.memory\", \"4g\")\\\n",
    "    .config(\"spark.kubernetes.namespace\", \"mrjazanov-338247\")\\\n",
    "    .config(\"spark.kubernetes.container.image.pullPolicy\", \"Always\")\\\n",
    "    .config(\"spark.kubernetes.container.image\", \"node03.st:5000/spark-executor:mrjazanov-338247\")\\\n",
    "    .config(\"spark.kubernetes.executor.deleteOnTermination\", \"true\")\\\n",
    "    .config(\"spark.driver.extraClassPath\",\"./clickhouse-native-jdbc-shaded-2.6.5.jar\")\\\n",
    "    .config(\"spark.executor.extraClassPath\", \"./clickhouse-native-jdbc-shaded-2.6.5.jar\")\\\n",
    "    .config(\"spark.jars\", \"./clickhouse-native-jdbc-shaded-2.6.5.jar\")\\\n",
    "    .getOrCreate()"
   ]
  },
  {
   "cell_type": "code",
   "execution_count": 46,
   "id": "liberal-ranking",
   "metadata": {},
   "outputs": [
    {
     "data": {
      "text/html": [
       "\n",
       "            <div>\n",
       "                <p><b>SparkSession - in-memory</b></p>\n",
       "                \n",
       "        <div>\n",
       "            <p><b>SparkContext</b></p>\n",
       "\n",
       "            <p><a href=\"http://10.128.175.165:4040\">Spark UI</a></p>\n",
       "\n",
       "            <dl>\n",
       "              <dt>Version</dt>\n",
       "                <dd><code>v3.1.1</code></dd>\n",
       "              <dt>Master</dt>\n",
       "                <dd><code>k8s://https://10.32.7.103:6443</code></dd>\n",
       "              <dt>AppName</dt>\n",
       "                <dd><code>pyspark-shell</code></dd>\n",
       "            </dl>\n",
       "        </div>\n",
       "        \n",
       "            </div>\n",
       "        "
      ],
      "text/plain": [
       "<pyspark.sql.session.SparkSession at 0x7ff7e87abbb0>"
      ]
     },
     "execution_count": 46,
     "metadata": {},
     "output_type": "execute_result"
    }
   ],
   "source": [
    "spark"
   ]
  },
  {
   "cell_type": "code",
   "execution_count": 50,
   "id": "later-lawsuit",
   "metadata": {},
   "outputs": [],
   "source": [
    "url=\"jdbc:clickhouse://clickhouse-0.clickhouse.clickhouse\"\n",
    "user=\"mrjazanov_338247\" #replace by whatever you use\n",
    "password=\"6TGFWHEOeX\" #same here\n",
    "dbtable='mrjazanov_338247.distr_transactions'\n",
    "driver=\"com.github.housepower.jdbc.ClickHouseDriver\""
   ]
  },
  {
   "cell_type": "code",
   "execution_count": 51,
   "id": "modified-paraguay",
   "metadata": {},
   "outputs": [],
   "source": [
    "df = spark.read.format('jdbc').option('driver',driver).option('url',url).option('user',user).option('password',password).option('dbtable',dbtable).load()"
   ]
  },
  {
   "cell_type": "code",
   "execution_count": 53,
   "id": "looking-brand",
   "metadata": {},
   "outputs": [
    {
     "name": "stdout",
     "output_type": "stream",
     "text": [
      "+-----------+\n",
      "|user_id_out|\n",
      "+-----------+\n",
      "|       7526|\n",
      "|       7526|\n",
      "|       7526|\n",
      "|       7526|\n",
      "|       7526|\n",
      "|       7526|\n",
      "|       7526|\n",
      "|       7526|\n",
      "|       7526|\n",
      "|       7526|\n",
      "+-----------+\n",
      "\n"
     ]
    }
   ],
   "source": [
    "df.select('user_id_out').where(F.col('user_id_out') > 1500).limit(10).show()"
   ]
  },
  {
   "cell_type": "code",
   "execution_count": 54,
   "id": "comprehensive-employment",
   "metadata": {},
   "outputs": [],
   "source": [
    "spark.stop()"
   ]
  },
  {
   "cell_type": "code",
   "execution_count": null,
   "id": "centered-clerk",
   "metadata": {},
   "outputs": [],
   "source": []
  }
 ],
 "metadata": {
  "kernelspec": {
   "display_name": "Python 3",
   "language": "python",
   "name": "python3"
  },
  "language_info": {
   "codemirror_mode": {
    "name": "ipython",
    "version": 3
   },
   "file_extension": ".py",
   "mimetype": "text/x-python",
   "name": "python",
   "nbconvert_exporter": "python",
   "pygments_lexer": "ipython3",
   "version": "3.8.8"
  }
 },
 "nbformat": 4,
 "nbformat_minor": 5
}
