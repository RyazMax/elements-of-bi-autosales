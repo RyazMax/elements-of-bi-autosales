{
 "cells": [
  {
   "cell_type": "markdown",
   "id": "cross-protest",
   "metadata": {},
   "source": [
    "To get file from HDFS to local filesystem, we can use `copyToLocal` option."
   ]
  },
  {
   "cell_type": "code",
   "execution_count": 1,
   "id": "infinite-hanging",
   "metadata": {},
   "outputs": [
    {
     "name": "stdout",
     "output_type": "stream",
     "text": [
      "WARNING: An illegal reflective access operation has occurred\r\n",
      "WARNING: Illegal reflective access by org.apache.hadoop.security.authentication.util.KerberosUtil (file:/opt/hadoop-2.7.2/share/hadoop/common/lib/hadoop-auth-2.7.2.jar) to method sun.security.krb5.Config.getInstance()\r\n",
      "WARNING: Please consider reporting this to the maintainers of org.apache.hadoop.security.authentication.util.KerberosUtil\r\n",
      "WARNING: Use --illegal-access=warn to enable warnings of further illegal reflective access operations\r\n",
      "WARNING: All illegal access operations will be denied in a future release\r\n"
     ]
    }
   ],
   "source": [
    "!hdfs dfs -copyToLocal /tmp/mkoroleva-309944/ProjectBook.ipynb ./notebook.ipynb"
   ]
  },
  {
   "cell_type": "markdown",
   "id": "alleged-street",
   "metadata": {},
   "source": [
    "В данном notebook я:\n",
    "- расписываю, что в столбцах и высказываю мнение, что может пригодится, что нет\n",
    "- объединяю stocks и LocadStocksLeft\n",
    "- делаю join для autodoc_items и sales_autodoc по **id**.\n",
    "- считаю выручку для каждого дня в sales_autodoc, добавляю столбец с выручкой\n",
    "\n",
    "Я посмотрела внимательно данные и предлагаю сделать следующее:\n",
    "\n",
    "1) Поделать несколько разных графиков по выручке, например а) динамика всей выручки за каждую дату или месяц (или иной период) б) динамика выручки для товаров различных категорий (группировка по Category) в) динамика выручки для товаров разных брендов (Brand)\n",
    "\n",
    "2) Сохранить все важные таблички, получившиеся благодаря джойнам и юнионам, в формате csv на hdfs\n",
    "\n",
    "3) Подумать, как применить данные со складов (LocadStocksLeft и stocks)\n",
    "\n",
    "4) Можно поделать какие-нибудь запросы на clickhouse, скорее всего они будут делаться быстрее, чем на спарке"
   ]
  },
  {
   "cell_type": "code",
   "execution_count": 2,
   "id": "infectious-smoke",
   "metadata": {},
   "outputs": [],
   "source": [
    "from pyspark.sql import SparkSession\n",
    "from pyspark.sql import functions as F\n",
    "from pyspark.sql.functions import pandas_udf\n",
    "from pyspark.sql.types import IntegerType, StringType, BooleanType, ArrayType\n",
    "from pyspark.sql.functions import udf\n",
    "import re\n",
    "\n",
    "import pandas as pd\n",
    "import matplotlib.pyplot as plt\n",
    "import socket"
   ]
  },
  {
   "cell_type": "markdown",
   "id": "figured-northeast",
   "metadata": {},
   "source": [
    "Через следующую команду можно добавлять другие файлы в hdfs:"
   ]
  },
  {
   "cell_type": "code",
   "execution_count": null,
   "id": "spare-farming",
   "metadata": {},
   "outputs": [],
   "source": [
    "# cat stocks.csv | ssh -T mkoroleva-309944@gateway.st \"kubectl exec jupyter-spark-578dc7b7b6-vlbfg -i -- hdfs dfs -put - /tmp/mkoroleva-309944/stocks.csv\""
   ]
  },
  {
   "cell_type": "code",
   "execution_count": 3,
   "id": "median-terry",
   "metadata": {},
   "outputs": [],
   "source": [
    "LOCAL_IP = socket.gethostbyname(socket.gethostname())"
   ]
  },
  {
   "cell_type": "code",
   "execution_count": 8,
   "id": "above-median",
   "metadata": {},
   "outputs": [],
   "source": [
    "spark = (\n",
    "    SparkSession\n",
    "    .builder\n",
    "    .master('k8s://https://10.32.7.103:6443')\n",
    "    .config('spark.driver.host', LOCAL_IP)\n",
    "    .config('spark.driver.bindAddress', '0.0.0.0')\n",
    "    .config('spark.executor.instances', '2') # по какому принципу выбирать кол-во?\n",
    "    .config('spark.executor.cores', '2') # ?\n",
    "    .config('spark.cores.max', '4')\n",
    "    .config('spark.executor.memory', '20g')\n",
    "    .config('spark.sql.execution.arrow.enabled', 'true')\n",
    "    .config('spark.kubernetes.namespace', 'mkoroleva-309944')\n",
    "    .config('spark.kubernetes.container.image', 'node03.st:5000/spark-executor:mkoroleva-309944')\n",
    "    .config('spark.kubernetes.container.image.pullPolicy', 'Always')\n",
    "    .config('spark.kubernetes.executor.deleteOnTermenation', 'false')\n",
    "    .getOrCreate()\n",
    ")"
   ]
  },
  {
   "cell_type": "code",
   "execution_count": 43,
   "id": "revised-metro",
   "metadata": {},
   "outputs": [
    {
     "name": "stdout",
     "output_type": "stream",
     "text": [
      "WARNING: An illegal reflective access operation has occurred\n",
      "WARNING: Illegal reflective access by org.apache.hadoop.security.authentication.util.KerberosUtil (file:/opt/hadoop-2.7.2/share/hadoop/common/lib/hadoop-auth-2.7.2.jar) to method sun.security.krb5.Config.getInstance()\n",
      "WARNING: Please consider reporting this to the maintainers of org.apache.hadoop.security.authentication.util.KerberosUtil\n",
      "WARNING: Use --illegal-access=warn to enable warnings of further illegal reflective access operations\n",
      "WARNING: All illegal access operations will be denied in a future release\n",
      "Found 7 items\n",
      "-rw-r--r--   3 mkoroleva-309944 supergroup  657850952 2022-06-17 11:32 /tmp/mkoroleva-309944/Autodoc_Items.csv\n",
      "-rw-r--r--   3 mkoroleva-309944 supergroup 1929179033 2022-06-17 12:04 /tmp/mkoroleva-309944/Lokad_StocksLeft.csv\n",
      "-rw-r--r--   3 mkoroleva-309944 supergroup     145028 2022-06-21 10:53 /tmp/mkoroleva-309944/ProjectBook.ipynb\n",
      "-rw-r--r--   3 mkoroleva-309944 supergroup   71323652 2022-06-17 12:42 /tmp/mkoroleva-309944/sales_PB.csv\n",
      "-rw-r--r--   3 mkoroleva-309944 supergroup 2044637741 2022-06-17 12:34 /tmp/mkoroleva-309944/sales_autodoc.csv\n",
      "drwxr-xr-x   - mkoroleva-309944 supergroup          0 2022-05-23 10:50 /tmp/mkoroleva-309944/some-posts-1234.parquet\n",
      "-rw-r--r--   3 mkoroleva-309944 supergroup  659621335 2022-06-17 12:56 /tmp/mkoroleva-309944/stocks.csv\n"
     ]
    }
   ],
   "source": [
    "!hdfs dfs -ls /tmp/mkoroleva-309944"
   ]
  },
  {
   "cell_type": "markdown",
   "id": "returning-demand",
   "metadata": {},
   "source": [
    "## Разберёмся со складами"
   ]
  },
  {
   "cell_type": "markdown",
   "id": "available-kenya",
   "metadata": {},
   "source": [
    "**stocksLeft**\n",
    "count:  53 007 227\n",
    "\n",
    "\n",
    "- Date: from 2017-06-06 to 2022-05-29\n",
    "- id: 86 403 different\n",
    "- Name: 85 331 different\n",
    "- Stock: Похоже на количество на складе, потому что с изменением даты убывает\n",
    "и в какие-то дни пополняется\n",
    "- isPatent: boolean (yes/no) - 45 видов деталей c yes, 81618 с no"
   ]
  },
  {
   "cell_type": "markdown",
   "id": "legal-tulsa",
   "metadata": {},
   "source": [
    "**stocks**\n",
    "count: 28 218 467\n",
    "\n",
    "- article_id - 84476 уникальных\n",
    "- stock_log_date: from 2021-01-01 to 2022-06-01\n",
    "- stock: количество на складе"
   ]
  },
  {
   "cell_type": "markdown",
   "id": "numerical-guinea",
   "metadata": {},
   "source": [
    "stocksLeft и stocks почти полностью дублируют друг друга, только stocksLeft захватывает больше дат"
   ]
  },
  {
   "cell_type": "code",
   "execution_count": 9,
   "id": "functional-meditation",
   "metadata": {},
   "outputs": [],
   "source": [
    "stocksLeft = spark.read.option(\"header\", \"true\").csv('hdfs:///tmp/mkoroleva-309944/Lokad_StocksLeft.csv', inferSchema=True)"
   ]
  },
  {
   "cell_type": "code",
   "execution_count": 10,
   "id": "aerial-desktop",
   "metadata": {},
   "outputs": [],
   "source": [
    "cached_stocksLeft = stocksLeft.cache()"
   ]
  },
  {
   "cell_type": "code",
   "execution_count": 11,
   "id": "lesbian-great",
   "metadata": {},
   "outputs": [],
   "source": [
    "stocks = spark.read.option(\"header\", \"true\").csv('hdfs:///tmp/mkoroleva-309944/stocks.csv', inferSchema=True)"
   ]
  },
  {
   "cell_type": "code",
   "execution_count": 12,
   "id": "instrumental-silicon",
   "metadata": {},
   "outputs": [],
   "source": [
    "cached_stocks = stocks.cache()"
   ]
  },
  {
   "cell_type": "code",
   "execution_count": 13,
   "id": "subjective-migration",
   "metadata": {},
   "outputs": [],
   "source": [
    "# добавляем в stocksLeft недостающую часть из stocks\n",
    "\n",
    "stocks_all = (\n",
    "    cached_stocksLeft\n",
    "    .select('id', 'Date', 'Stock')\n",
    "    .union(cached_stocks.where(F.col('stock_log_date') > '2022-05-29'))\n",
    ")"
   ]
  },
  {
   "cell_type": "code",
   "execution_count": 14,
   "id": "academic-metabolism",
   "metadata": {},
   "outputs": [],
   "source": [
    "stocks_all = stocks_all.cache()"
   ]
  },
  {
   "cell_type": "code",
   "execution_count": 15,
   "id": "adverse-scottish",
   "metadata": {},
   "outputs": [
    {
     "data": {
      "text/plain": [
       "DataFrame[Date: string, id: int, Name: string, Stock: int, isPatent: string]"
      ]
     },
     "execution_count": 15,
     "metadata": {},
     "output_type": "execute_result"
    }
   ],
   "source": [
    "cached_stocksLeft.unpersist()"
   ]
  },
  {
   "cell_type": "code",
   "execution_count": 16,
   "id": "great-century",
   "metadata": {},
   "outputs": [
    {
     "data": {
      "text/plain": [
       "DataFrame[article_id: int, stock_log_date: string, stock: int]"
      ]
     },
     "execution_count": 16,
     "metadata": {},
     "output_type": "execute_result"
    }
   ],
   "source": [
    "cached_stocks.unpersist()"
   ]
  },
  {
   "cell_type": "markdown",
   "id": "packed-assembly",
   "metadata": {},
   "source": [
    "Теперь у нас есть единая таблица stocks_all, в которой обединены таблицы Lokad_StocksLeft и stocks."
   ]
  },
  {
   "cell_type": "markdown",
   "id": "cultural-smart",
   "metadata": {},
   "source": [
    "## Теперь с таблицей всех деталей"
   ]
  },
  {
   "cell_type": "markdown",
   "id": "seventh-pharmacology",
   "metadata": {},
   "source": [
    "**df_items**:\n",
    "count: 4 710 028\n",
    "был 31 дубликат - удалила\n",
    "\n",
    "- id - 4 390 818 unique values\n",
    "- Name - 4 323 103 unique values, 338 749 из которых встречаются более 1 раза - эти названия тоже цифры, несут мало информации\n",
    "- Category - 81 unique values, 14 are not significant, string names of categories\n",
    "- SubCategory - subcategory -  5890 unique values, названия подкатегорий\n",
    "- SubCategoryNr - subcategory number - 6613 unique valies\n",
    "- Brand - 1425 unique values\n",
    "- Supplier - 233 unique values\n",
    "- isActive - boolean, *significant*\n",
    "- isKit - boolean, *significant*\n",
    "- buyPrice - цена (в евро)\n",
    "- BuyPriceCurrency - 1 unique - EUR - so we **do not need this**\n",
    "- SellPriceCurrency - 1 unique - EUR - so we **do not need this**\n",
    "- MOQ - 54 unique\n",
    "- volume - непонятно, в чём измеряется\n",
    "- isPatent - boolean *barely significant*, mostly 'No'\n",
    "- isUnit - boolean, mostly nan, **do not need this**\n",
    "- PKW - boolean, *very significant*\n",
    "- LKW - boolean, *significant*\n",
    "- W/A - boolean, *significant*\n",
    "- MOTO - boolean, *significant*\n",
    "- ean - 4 458 459 unique values - **what's that**\n",
    "- LotMultiplier_box - 6 unique values: 1, 2, 4, 5, 6, 100 - при этом подавляющее большинство 1 и 2\n",
    "\n",
    "\n",
    "**Вывод: кроме id, ean и LotMultiplier_box, buyPrice и volume нет никаких числовых данных.\n",
    "Много разных булинов с непонятным значением.**\n",
    "**Также, из этой таблицы можно узнать примерно, какое назначение детали, по артикулу. В этом помогут нам Category и SubCategory**"
   ]
  },
  {
   "cell_type": "code",
   "execution_count": 17,
   "id": "acknowledged-demographic",
   "metadata": {},
   "outputs": [],
   "source": [
    "df_items = spark.read.option(\"header\", \"true\").csv('hdfs:///tmp/mkoroleva-309944/Autodoc_Items.csv', inferSchema=True)"
   ]
  },
  {
   "cell_type": "code",
   "execution_count": 18,
   "id": "recorded-making",
   "metadata": {},
   "outputs": [],
   "source": [
    "cached_items = df_items.cache()\n",
    "\n",
    "#Было порядка 30 дубликатов, удаляем их\n",
    "cached_items = cached_items.dropDuplicates()"
   ]
  },
  {
   "cell_type": "code",
   "execution_count": 20,
   "id": "athletic-switzerland",
   "metadata": {},
   "outputs": [
    {
     "name": "stdout",
     "output_type": "stream",
     "text": [
      "root\n",
      " |-- id: integer (nullable = true)\n",
      " |-- Name: string (nullable = true)\n",
      " |-- Category: string (nullable = true)\n",
      " |-- SubCategory: string (nullable = true)\n",
      " |-- SubCategoryNr: integer (nullable = true)\n",
      " |-- Brand: string (nullable = true)\n",
      " |-- Supplier: string (nullable = true)\n",
      " |-- isActive: string (nullable = true)\n",
      " |-- isKit: string (nullable = true)\n",
      " |-- BuyPrice: double (nullable = true)\n",
      " |-- BuyPriceCurrency: string (nullable = true)\n",
      " |-- SellPrice: double (nullable = true)\n",
      " |-- SellPriceCurrency: string (nullable = true)\n",
      " |-- MOQ: integer (nullable = true)\n",
      " |-- Volume: double (nullable = true)\n",
      " |-- isPatent: string (nullable = true)\n",
      " |-- isUnit: string (nullable = true)\n",
      " |-- PKW: integer (nullable = true)\n",
      " |-- LKW: integer (nullable = true)\n",
      " |-- W/A: integer (nullable = true)\n",
      " |-- MOTO: integer (nullable = true)\n",
      " |-- ean: string (nullable = true)\n",
      " |-- firstDatePPC: string (nullable = true)\n",
      " |-- LotMultiplier_box: integer (nullable = true)\n",
      "\n"
     ]
    }
   ],
   "source": [
    "cached_items.printSchema()"
   ]
  },
  {
   "cell_type": "code",
   "execution_count": 21,
   "id": "manual-tanzania",
   "metadata": {},
   "outputs": [
    {
     "name": "stdout",
     "output_type": "stream",
     "text": [
      "+----------------------------------+------+\n",
      "|Category                          |count |\n",
      "+----------------------------------+------+\n",
      "|Engine                            |833817|\n",
      "|Braking System                    |671612|\n",
      "|Body                              |416277|\n",
      "|Axle Mounting/ Steering/ Wheels   |355414|\n",
      "|Electrics                         |287310|\n",
      "|Suspension/Damping                |280308|\n",
      "|null                              |227860|\n",
      "|Cooling System                    |221806|\n",
      "|Exhaust System                    |171804|\n",
      "|Filters                           |170454|\n",
      "|Steering                          |169433|\n",
      "|Clutch/Attachment Parts           |112856|\n",
      "|Air Conditioning                  |102146|\n",
      "|Wheel Drive                       |101356|\n",
      "|Spark/Glow Ignition               |68482 |\n",
      "|Tools                             |55937 |\n",
      "|Maintenance Service Parts         |52726 |\n",
      "|Comfort Systems                   |46864 |\n",
      "|Fuel Mixture Formation            |45014 |\n",
      "|Window Cleaning                   |32269 |\n",
      "|Standard Parts/Consumables        |29650 |\n",
      "|Fuel Supply System                |25556 |\n",
      "|Transmission                      |25046 |\n",
      "|Interior Equipment                |21914 |\n",
      "|Towbar/Attachment Parts           |21013 |\n",
      "|Heating/Ventilation               |20539 |\n",
      "|Chemical Products                 |18870 |\n",
      "|Locking System                    |16823 |\n",
      "|Workshop Equipment                |15978 |\n",
      "|Compressed Air System             |15182 |\n",
      "|Axle Drive                        |13579 |\n",
      "|Lights/Signal System              |10232 |\n",
      "|Motorcycle                        |10085 |\n",
      "|Oil                               |9516  |\n",
      "|Accessories                       |6819  |\n",
      "|Driver Cab / Body                 |6761  |\n",
      "|Special Tools                     |5112  |\n",
      "|Information/ Communication Systems|3471  |\n",
      "|Headlight Washer System           |2988  |\n",
      "|Clutch                            |1870  |\n",
      "|Carrier Equipment                 |1674  |\n",
      "|Trailer Hitch                     |589   |\n",
      "|Security Systems                  |510   |\n",
      "|Drive Belts                       |467   |\n",
      "|Wheel Suspension                  |327   |\n",
      "|Engine Special Tools              |306   |\n",
      "|Instruments                       |290   |\n",
      "|Wheels/Tyres                      |283   |\n",
      "|Hybrid                            |188   |\n",
      "|Fifth Wheel Coupling              |103   |\n",
      "|Trailer Attachments/Accessories   |101   |\n",
      "|Driver Cab/Body Structure         |93    |\n",
      "|Power Take-Off                    |78    |\n",
      "|Axle Suspension/Steering          |58    |\n",
      "|Load Securing                     |35    |\n",
      "|Engine Cooling System             |32    |\n",
      "|Article Search via Graphic        |18    |\n",
      "|Belt Drive                        |17    |\n",
      "|Oil Trap                          |9     |\n",
      "|Assorted Springs                  |7     |\n",
      "|Logistics boxes                   |6     |\n",
      "|Pulley                            |6     |\n",
      "|Brake Piston Tool Set             |6     |\n",
      "|Electric Drive                    |6     |\n",
      "|Hydraulic System                  |5     |\n",
      "|Bags/Backpacks etc.               |5     |\n",
      "|Office Goods                      |4     |\n",
      "|Hand Disinfection                 |3     |\n",
      "|Sign / Information Board          |2     |\n",
      "|Computer/Accessory                |2     |\n",
      "|Additional                        |2     |\n",
      "|Mugs/Glasses                      |2     |\n",
      "|Assorted Terminals                |1     |\n",
      "|Reversing Aid                     |1     |\n",
      "|Other                             |1     |\n",
      "|Exhaust Gas Recirculation (EGR)   |1     |\n",
      "|Assorted Wall Plugs               |1     |\n",
      "|Acid Neutralisation Agent         |1     |\n",
      "|Special Tools, suspension fork    |1     |\n",
      "|Signs                             |1     |\n",
      "|Tills/Rolls etc.                  |1     |\n",
      "|Telephone/Accessory               |1     |\n",
      "|Glove Dispenser                   |1     |\n",
      "|Tyre Repair                       |1     |\n",
      "|Advertising Signs/Flags           |1     |\n",
      "|Silencer Tools                    |1     |\n",
      "+----------------------------------+------+\n",
      "\n"
     ]
    }
   ],
   "source": [
    "# Топ категорий по количеству артикулов товаров\n",
    "\n",
    "cached_items.groupby('Category').count().sort('count', ascending=False).show(90, truncate=False)"
   ]
  },
  {
   "cell_type": "code",
   "execution_count": 22,
   "id": "blank-purse",
   "metadata": {},
   "outputs": [
    {
     "name": "stdout",
     "output_type": "stream",
     "text": [
      "+-------------------------------+-----+\n",
      "|SubCategory                    |count|\n",
      "+-------------------------------+-----+\n",
      "|Charge Cable, electric vehicle |142  |\n",
      "|Cooler, drive battery          |38   |\n",
      "|Adapter Cable, electric vehicle|8    |\n",
      "+-------------------------------+-----+\n",
      "\n"
     ]
    }
   ],
   "source": [
    "cached_items.where(F.col('Category') == 'Hybrid').groupby('SubCategory').count().sort('count', ascending=False).show(truncate=False)"
   ]
  },
  {
   "cell_type": "code",
   "execution_count": 23,
   "id": "together-henry",
   "metadata": {},
   "outputs": [
    {
     "name": "stdout",
     "output_type": "stream",
     "text": [
      "+---------------+------+\n",
      "|Brand          |count |\n",
      "+---------------+------+\n",
      "|RIDEX          |178505|\n",
      "|STARK          |178494|\n",
      "|BOSCH          |139513|\n",
      "|TITAN          |95053 |\n",
      "|DIEDERICHS     |63005 |\n",
      "|MAGNETI MARELLI|60621 |\n",
      "|PRASCO         |58447 |\n",
      "|QUINTON HAZELL |54450 |\n",
      "|TRISCAN        |53851 |\n",
      "|FEBI BILSTEIN  |52407 |\n",
      "|HELLA          |50855 |\n",
      "|VALEO          |47690 |\n",
      "|DT Spare Parts |45471 |\n",
      "|METZGER        |45021 |\n",
      "|AUGER          |44817 |\n",
      "|VAN WEZEL      |42852 |\n",
      "|TRW            |41849 |\n",
      "|ASHIKA         |41307 |\n",
      "|JAPANPARTS     |41295 |\n",
      "|Henkel Parts   |40108 |\n",
      "+---------------+------+\n",
      "only showing top 20 rows\n",
      "\n"
     ]
    }
   ],
   "source": [
    "# top-20 brands\n",
    "cached_items.groupby('Brand').count().sort('count', ascending=False).show(truncate=False)"
   ]
  },
  {
   "cell_type": "code",
   "execution_count": 24,
   "id": "asian-charm",
   "metadata": {},
   "outputs": [
    {
     "name": "stdout",
     "output_type": "stream",
     "text": [
      "+--------------------+------+\n",
      "|Supplier            |count |\n",
      "+--------------------+------+\n",
      "|PKW                 |460674|\n",
      "|HENNIG              |439378|\n",
      "|INTERCARS           |409842|\n",
      "|AUTO-PARTNER HOLDING|333425|\n",
      "|ELIT                |245852|\n",
      "|AUTOLAND            |202705|\n",
      "|IPSA                |188345|\n",
      "|STAHLGRUBER         |177771|\n",
      "|MOTOPROFIL          |171790|\n",
      "|MOTOROL             |135146|\n",
      "|GORDON              |119366|\n",
      "|AUTOPARTNER SA      |111624|\n",
      "|INTERTEAM           |97662 |\n",
      "|MOTOGAMA            |91130 |\n",
      "|IDIR                |73012 |\n",
      "|DOYEN AUTO          |72875 |\n",
      "|DIEDERICHS          |62617 |\n",
      "|ACR GROUP           |61245 |\n",
      "|DELTI               |53440 |\n",
      "|QUINTON HAZELL      |53431 |\n",
      "+--------------------+------+\n",
      "only showing top 20 rows\n",
      "\n"
     ]
    }
   ],
   "source": [
    "#top-20 suppliers\n",
    "cached_items.groupby('Supplier').count().sort('count', ascending=False).show(truncate=False)"
   ]
  },
  {
   "cell_type": "code",
   "execution_count": 27,
   "id": "interpreted-barrel",
   "metadata": {},
   "outputs": [],
   "source": [
    "# Оставляем только нужные столбцы:\n",
    "items = cached_items.select('id', 'Category', 'SubCategory', 'Brand', 'Supplier', 'buyPrice', 'Volume', 'LotMultiplier_box').cache()"
   ]
  },
  {
   "cell_type": "code",
   "execution_count": 28,
   "id": "wrapped-scheme",
   "metadata": {},
   "outputs": [
    {
     "data": {
      "text/plain": [
       "DataFrame[id: int, Name: string, Category: string, SubCategory: string, SubCategoryNr: int, Brand: string, Supplier: string, isActive: string, isKit: string, BuyPrice: double, BuyPriceCurrency: string, SellPrice: double, SellPriceCurrency: string, MOQ: int, Volume: double, isPatent: string, isUnit: string, PKW: int, LKW: int, W/A: int, MOTO: int, ean: string, firstDatePPC: string, LotMultiplier_box: int]"
      ]
     },
     "execution_count": 28,
     "metadata": {},
     "output_type": "execute_result"
    }
   ],
   "source": [
    "cached_items.unpersist()"
   ]
  },
  {
   "cell_type": "markdown",
   "id": "affected-theorem",
   "metadata": {},
   "source": [
    "## Разбираемся с продажами"
   ]
  },
  {
   "cell_type": "markdown",
   "id": "apparent-abraham",
   "metadata": {},
   "source": [
    "**sales_autodoc**\n",
    "count: 51 507 766\n",
    "\n",
    "- date: c 2022-01-01 по 2022-06-03\n",
    "- article_id: 1 354 338 уникальных\n",
    "- category_id: как минимум 4818 категорий\n",
    "- sales_operation: sale или refund - продажа/возврат\n",
    "- promotion_percent: возможно, процент скидки\n",
    "- netto_total: масса запчасти? в чём измеряется?\n",
    "- quantity: сколько продано, количество - можно агрегировать по периоду, сколько всего, сколько в среднем продвалось/возвращалось\n"
   ]
  },
  {
   "cell_type": "markdown",
   "id": "unlikely-leave",
   "metadata": {},
   "source": [
    "**sales_PB** count: 1 048 575\n",
    "\n",
    "- date: с 05.06.2013 по 28.06.2017\n",
    "- article_id: 14 900 разных\n",
    "- brand_name: всего 2 разных: RIDEX(175 587) и STARK (872 988)\n",
    "- category_id: 141 разная\n",
    "- delivery_country_code: 118 разных\n",
    "- is_kit: булин\n",
    "- is_custom_kit: булин\n",
    "- is_replace: булин\n",
    "- is_replace_kit: булин\n",
    "- order_assembly_store: булин, 0 - 1 048 250 , 1 - 325\n",
    "- project_skin: 27 разных\n",
    "- sales_operation: sale или refund - продажа/возврат\n",
    "- promotion_percent: 13 разных, распределено, оставляем, пригодится, числовой показатель\n",
    "- netto_total: \n",
    "- quantity: \n",
    "- sum_profit_1 - везде нули - ненужная - **удаляем**"
   ]
  },
  {
   "cell_type": "markdown",
   "id": "loved-forward",
   "metadata": {},
   "source": [
    "Также известно, что sales_PB - это данные о продаже собственной торговой марки\n",
    "sales_autodoc - предположительно все продажи"
   ]
  },
  {
   "cell_type": "markdown",
   "id": "distributed-morris",
   "metadata": {},
   "source": [
    "Поскольку они совсем за разные даты, имеет смысл рассмотреть отдельно."
   ]
  },
  {
   "cell_type": "markdown",
   "id": "aware-phase",
   "metadata": {},
   "source": [
    "### sales_autodoc"
   ]
  },
  {
   "cell_type": "code",
   "execution_count": 29,
   "id": "human-rehabilitation",
   "metadata": {},
   "outputs": [],
   "source": [
    "sales_autodoc = spark.read.option(\"header\", \"true\").csv('hdfs:///tmp/mkoroleva-309944/sales_autodoc.csv', inferSchema=True)"
   ]
  },
  {
   "cell_type": "code",
   "execution_count": 30,
   "id": "found-popularity",
   "metadata": {},
   "outputs": [],
   "source": [
    "cached_sales_autodoc = sales_autodoc.cache()"
   ]
  },
  {
   "cell_type": "code",
   "execution_count": 37,
   "id": "coordinated-schema",
   "metadata": {},
   "outputs": [
    {
     "name": "stdout",
     "output_type": "stream",
     "text": [
      "+-------+----------+-----------------+---------------+------------------+------------------+------------------+\n",
      "|summary|      date|       article_id|sales_operation| promotion_percent|       netto_total|          quantity|\n",
      "+-------+----------+-----------------+---------------+------------------+------------------+------------------+\n",
      "|  count|  51507766|         51507766|       51507766|          51507766|          51507766|          51507766|\n",
      "|   mean|      null|8238946.741464403|           null|23.322845529740118|26.851239273465012|1.3119521432942753|\n",
      "| stddev|      null|4814700.263537035|           null| 15.29712043223657|50.010151306728474|1.7942398894933802|\n",
      "|    min|2021-01-01|             1213|         refund|                 0|          -3383.28|              -921|\n",
      "|    max|2022-06-03|         18955648|           sale|                43|          20064.88|              2000|\n",
      "+-------+----------+-----------------+---------------+------------------+------------------+------------------+\n",
      "\n"
     ]
    }
   ],
   "source": [
    "cached_sales_autodoc.drop('category_id').describe().show()"
   ]
  },
  {
   "cell_type": "code",
   "execution_count": 32,
   "id": "soviet-stomach",
   "metadata": {},
   "outputs": [],
   "source": [
    "salesItemsInfo = sales_autodoc.join(items, cached_sales_autodoc.article_id == items.id).cache()"
   ]
  },
  {
   "cell_type": "code",
   "execution_count": 33,
   "id": "chinese-margin",
   "metadata": {},
   "outputs": [
    {
     "name": "stdout",
     "output_type": "stream",
     "text": [
      "+----------+----------+---------------+--------+--------+-----------------+--------+-----------+-----------------+\n",
      "|      date|article_id|sales_operation|buyPrice|  Volume|promotion_percent|quantity|netto_total|LotMultiplier_box|\n",
      "+----------+----------+---------------+--------+--------+-----------------+--------+-----------+-----------------+\n",
      "|2021-03-18|     11858|           sale|   23.74|0.225225|                0|       1|      46.43|                1|\n",
      "|2021-08-25|     11858|           sale|   23.74|0.225225|               39|       1|      33.76|                1|\n",
      "|2021-12-07|     11858|           sale|   23.74|0.225225|               39|       1|      33.71|                1|\n",
      "|2022-02-07|     11858|           sale|   23.74|0.225225|               34|       1|      37.91|                1|\n",
      "|2021-01-12|     13289|           sale|  121.84| 0.00405|               24|       1|     186.77|                1|\n",
      "|2021-02-06|     13289|           sale|  121.84| 0.00405|               28|       1|     179.02|                1|\n",
      "|2021-03-17|     13289|           sale|  121.84| 0.00405|               28|       1|     164.61|                1|\n",
      "|2021-03-24|     13289|           sale|  121.84| 0.00405|                0|       2|     359.17|                1|\n",
      "|2021-03-26|     13289|           sale|  121.84| 0.00405|               29|       1|     162.33|                1|\n",
      "|2021-05-19|     13289|           sale|  121.84| 0.00405|               37|       1|     158.09|                1|\n",
      "|2021-07-09|     13289|           sale|  121.84| 0.00405|                0|       1|     183.07|                1|\n",
      "|2021-08-18|     13289|           sale|  121.84| 0.00405|               29|       1|      179.5|                1|\n",
      "|2021-09-08|     13289|           sale|  121.84| 0.00405|               30|       2|     331.36|                1|\n",
      "|2022-01-27|     13289|           sale|  121.84| 0.00405|               37|       1|      188.4|                1|\n",
      "|2022-04-26|     13289|           sale|  121.84| 0.00405|               27|       2|     400.37|                1|\n",
      "|2022-05-20|     13289|           sale|  121.84| 0.00405|               37|       1|     162.41|                1|\n",
      "|2021-01-12|     13840|           sale|    57.1|0.016763|               20|       1|      86.02|                1|\n",
      "|2021-02-02|     13840|           sale|    57.1|0.016763|               26|       1|      86.66|                1|\n",
      "|2021-02-03|     13840|           sale|    57.1|0.016763|               34|       1|      77.26|                1|\n",
      "|2021-02-26|     13840|           sale|    57.1|0.016763|                0|       1|      95.72|                1|\n",
      "+----------+----------+---------------+--------+--------+-----------------+--------+-----------+-----------------+\n",
      "only showing top 20 rows\n",
      "\n"
     ]
    }
   ],
   "source": [
    "salesItemsInfo.select('date', 'article_id', 'sales_operation', 'buyPrice', 'Volume', 'promotion_percent', 'quantity', 'netto_total', 'LotMultiplier_box').show()"
   ]
  },
  {
   "cell_type": "code",
   "execution_count": 34,
   "id": "saving-baseline",
   "metadata": {},
   "outputs": [],
   "source": [
    "# Рассчитаем выручку\n",
    "\n",
    "autodoc_r = (\n",
    "    salesItemsInfo\n",
    "    .withColumn('revenue', salesItemsInfo.buyPrice*salesItemsInfo.quantity)\n",
    "    .select('date', \n",
    "            'article_id', \n",
    "            'Category',\n",
    "            'sales_operation', \n",
    "            'buyPrice', \n",
    "            'quantity', \n",
    "            'revenue'\n",
    "            )\n",
    ").cache()"
   ]
  },
  {
   "cell_type": "code",
   "execution_count": 35,
   "id": "valid-filling",
   "metadata": {},
   "outputs": [
    {
     "name": "stdout",
     "output_type": "stream",
     "text": [
      "+----------+----------+\n",
      "|      date|   revenue|\n",
      "+----------+----------+\n",
      "|2021-01-01|    549.38|\n",
      "|2021-01-02|   -579.57|\n",
      "|2021-01-03|   -507.56|\n",
      "|2021-01-04|1495936.08|\n",
      "|2021-01-05|1712071.57|\n",
      "|2021-01-06|1607829.38|\n",
      "|2021-01-07| 1747942.0|\n",
      "|2021-01-08|2181800.77|\n",
      "|2021-01-09|1100304.87|\n",
      "|2021-01-10| -40206.68|\n",
      "|2021-01-11|2064683.98|\n",
      "|2021-01-12|2137312.91|\n",
      "|2021-01-13|2147179.86|\n",
      "|2021-01-14|2142595.36|\n",
      "|2021-01-15|2219160.11|\n",
      "|2021-01-16| 693259.77|\n",
      "|2021-01-17| -14102.04|\n",
      "|2021-01-18| 1941089.9|\n",
      "|2021-01-19|1968161.93|\n",
      "|2021-01-20|2158178.77|\n",
      "+----------+----------+\n",
      "only showing top 20 rows\n",
      "\n"
     ]
    }
   ],
   "source": [
    "# Сгруппируем по дате и посчитаем денежный приток на каждую дату\n",
    "\n",
    "date_revenue = (\n",
    "    autodoc_r\n",
    "    .groupby('date')\n",
    "    .sum('revenue')\n",
    "    .select('date', \n",
    "            F.round(F.col('sum(revenue)'), 2).alias('revenue'))\n",
    "    .sort('date')\n",
    ").cache()\n",
    "\n",
    "date_revenue.show()"
   ]
  },
  {
   "cell_type": "code",
   "execution_count": 38,
   "id": "noble-reverse",
   "metadata": {
    "collapsed": true
   },
   "outputs": [
    {
     "data": {
      "text/plain": [
       "<AxesSubplot:xlabel='date'>"
      ]
     },
     "execution_count": 38,
     "metadata": {},
     "output_type": "execute_result"
    },
    {
     "data": {
      "image/png": "[encoded data removed]",
      "text/plain": [
       "<Figure size 432x288 with 1 Axes>"
      ]
     },
     "metadata": {
      "needs_background": "light"
     },
     "output_type": "display_data"
    }
   ],
   "source": [
    "df1 = date_revenue.toPandas()"
   ]
  },
  {
   "cell_type": "code",
   "execution_count": 39,
   "id": "miniature-spending",
   "metadata": {
    "collapsed": true
   },
   "outputs": [
    {
     "data": {
      "text/plain": [
       "<AxesSubplot:xlabel='date'>"
      ]
     },
     "execution_count": 39,
     "metadata": {},
     "output_type": "execute_result"
    },
    {
     "data": {
      "image/png": "[encoded data removed]",
      "text/plain": [
       "<Figure size 432x288 with 1 Axes>"
      ]
     },
     "metadata": {
      "needs_background": "light"
     },
     "output_type": "display_data"
    }
   ],
   "source": [
    "df1.plot(x='date', y='revenue')"
   ]
  },
  {
   "cell_type": "markdown",
   "id": "coastal-engineer",
   "metadata": {},
   "source": [
    "### salesPB"
   ]
  },
  {
   "cell_type": "code",
   "execution_count": null,
   "id": "valued-trust",
   "metadata": {},
   "outputs": [],
   "source": [
    "salesPB = spark.read.options(header='True', delimiter=';').csv('hdfs:///tmp/mkoroleva-309944/sales_PB.csv', inferSchema=True)"
   ]
  },
  {
   "cell_type": "code",
   "execution_count": null,
   "id": "wireless-quantum",
   "metadata": {},
   "outputs": [],
   "source": [
    "cached_salesPB = salesPB.cache()"
   ]
  },
  {
   "cell_type": "code",
   "execution_count": null,
   "id": "enhanced-weather",
   "metadata": {},
   "outputs": [],
   "source": [
    "cached_salesPB.printSchema()"
   ]
  },
  {
   "cell_type": "code",
   "execution_count": null,
   "id": "statistical-settlement",
   "metadata": {},
   "outputs": [],
   "source": [
    "cached_sales_autodoc.unpersist()"
   ]
  },
  {
   "cell_type": "code",
   "execution_count": null,
   "id": "compatible-celtic",
   "metadata": {},
   "outputs": [],
   "source": [
    "cached_salesPB.unpersist()"
   ]
  },
  {
   "cell_type": "markdown",
   "id": "fabulous-steel",
   "metadata": {},
   "source": [
    "Saving the notebook to hdfs"
   ]
  },
  {
   "cell_type": "code",
   "execution_count": 42,
   "id": "dental-milwaukee",
   "metadata": {},
   "outputs": [
    {
     "name": "stdout",
     "output_type": "stream",
     "text": [
      "WARNING: An illegal reflective access operation has occurred\r\n",
      "WARNING: Illegal reflective access by org.apache.hadoop.security.authentication.util.KerberosUtil (file:/opt/hadoop-2.7.2/share/hadoop/common/lib/hadoop-auth-2.7.2.jar) to method sun.security.krb5.Config.getInstance()\r\n",
      "WARNING: Please consider reporting this to the maintainers of org.apache.hadoop.security.authentication.util.KerberosUtil\r\n",
      "WARNING: Use --illegal-access=warn to enable warnings of further illegal reflective access operations\r\n",
      "WARNING: All illegal access operations will be denied in a future release\r\n"
     ]
    }
   ],
   "source": [
    "!hdfs dfs -copyFromLocal ./ProjectBook_.ipynb /tmp/mkoroleva-309944/ProjectBook0.ipynb"
   ]
  }
 ],
 "metadata": {
  "kernelspec": {
   "display_name": "Python 3",
   "language": "python",
   "name": "python3"
  },
  "language_info": {
   "codemirror_mode": {
    "name": "ipython",
    "version": 3
   },
   "file_extension": ".py",
   "mimetype": "text/x-python",
   "name": "python",
   "nbconvert_exporter": "python",
   "pygments_lexer": "ipython3",
   "version": "3.8.8"
  }
 },
 "nbformat": 4,
 "nbformat_minor": 5
}
